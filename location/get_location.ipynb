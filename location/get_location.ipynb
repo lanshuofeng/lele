{
 "cells": [
  {
   "cell_type": "code",
   "execution_count": 27,
   "metadata": {
    "pycharm": {
     "is_executing": false
    }
   },
   "outputs": [
    {
     "name": "stdout",
     "output_type": "stream",
     "text": [
      "success\n"
     ]
    }
   ],
   "source": [
    "import requests\n",
    "\n",
    "url = 'https://apis.map.qq.com/jsapi?qt=geoc&addr={}&key=UGMBZ-CINWR-DDRW5-W52AK-D3ENK-ZEBRC&output=jsonp&pf=jsapi&ref=jsapi'\n",
    "\n",
    "\n",
    "def get_location(name):\n",
    "    resp = requests.get(url.format(name))\n",
    "    r = resp.json()\n",
    "    if r['info']['error'] == 0:\n",
    "        x = r['detail']['pointx']\n",
    "        y = r['detail']['pointy']\n",
    "    else:\n",
    "        print(\"未查询到该地区的信息: {}\".format(name))\n",
    "        x = 0.0\n",
    "        y = 0.0\n",
    "    return x, y\n",
    "\n",
    "\n",
    "def main():\n",
    "\n",
    "    with open('data.txt', 'r') as f:\n",
    "        lines = f.readlines()\n",
    "    with open('data_with_geo.csv', 'w') as f:\n",
    "        header = \"地区,经度,纬度\\n\"\n",
    "        f.writelines(header)\n",
    "        for line in lines:\n",
    "            name = line.strip()\n",
    "            x, y = get_location(line.strip())\n",
    "            f.writelines(\"{},{},{}\\n\".format(name, x, y))\n",
    "        print(\"success\")\n",
    "main()"
   ]
  }
 ],
 "metadata": {
  "kernelspec": {
   "display_name": "Python 3",
   "language": "python",
   "name": "python3"
  },
  "language_info": {
   "codemirror_mode": {
    "name": "ipython",
    "version": 3
   },
   "file_extension": ".py",
   "mimetype": "text/x-python",
   "name": "python",
   "nbconvert_exporter": "python",
   "pygments_lexer": "ipython3",
   "version": "3.7.7"
  },
  "pycharm": {
   "stem_cell": {
    "cell_type": "raw",
    "metadata": {
     "collapsed": false
    },
    "source": []
   }
  }
 },
 "nbformat": 4,
 "nbformat_minor": 1
}
